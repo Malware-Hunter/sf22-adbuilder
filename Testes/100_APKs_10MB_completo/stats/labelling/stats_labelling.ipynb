{
 "cells": [
  {
   "cell_type": "code",
   "execution_count": 1,
   "metadata": {},
   "outputs": [
    {
     "name": "stdout",
     "output_type": "stream",
     "text": [
      "\n",
      "*** abrindo arquivo: stats-20220728081344.txt\n"
     ]
    }
   ],
   "source": [
    "import glob\n",
    "\n",
    "time = []\n",
    "cpu = []\n",
    "mem = []\n",
    "\n",
    "for file in glob.glob('*.txt'):\n",
    "    print(\"\\n*** abrindo arquivo:\", file)\n",
    "    with open(file, 'r') as f:\n",
    "        for line in f:\n",
    "            try:\n",
    "                split = str(line).split(' ') # split[8] - tempo de execução (segundos)\n",
    "                split_cpu = str(split[12]).split('%') # split_cpu[0] - % CPU utilizado\n",
    "                split_mem = split[15] # split_mem - % memória utilizada\n",
    "                time.append(split[8])\n",
    "                cpu.append(split_cpu[0])\n",
    "                mem.append(split_mem)\n",
    "            except:\n",
    "                print('Erro ao processar alguns valores do arquivo:', file)"
   ]
  },
  {
   "cell_type": "code",
   "execution_count": 2,
   "metadata": {},
   "outputs": [
    {
     "data": {
      "text/html": [
       "<div>\n",
       "<style scoped>\n",
       "    .dataframe tbody tr th:only-of-type {\n",
       "        vertical-align: middle;\n",
       "    }\n",
       "\n",
       "    .dataframe tbody tr th {\n",
       "        vertical-align: top;\n",
       "    }\n",
       "\n",
       "    .dataframe thead th {\n",
       "        text-align: right;\n",
       "    }\n",
       "</style>\n",
       "<table border=\"1\" class=\"dataframe\">\n",
       "  <thead>\n",
       "    <tr style=\"text-align: right;\">\n",
       "      <th></th>\n",
       "      <th>Tempo de Execução (s)</th>\n",
       "      <th>CPU (%)</th>\n",
       "      <th>Memória RAM</th>\n",
       "    </tr>\n",
       "  </thead>\n",
       "  <tbody>\n",
       "    <tr>\n",
       "      <th>0</th>\n",
       "      <td>1.94</td>\n",
       "      <td>2.0</td>\n",
       "      <td>13600.0</td>\n",
       "    </tr>\n",
       "    <tr>\n",
       "      <th>1</th>\n",
       "      <td>1.13</td>\n",
       "      <td>2.0</td>\n",
       "      <td>13556.0</td>\n",
       "    </tr>\n",
       "    <tr>\n",
       "      <th>2</th>\n",
       "      <td>1.32</td>\n",
       "      <td>2.0</td>\n",
       "      <td>13380.0</td>\n",
       "    </tr>\n",
       "    <tr>\n",
       "      <th>3</th>\n",
       "      <td>0.95</td>\n",
       "      <td>2.0</td>\n",
       "      <td>13604.0</td>\n",
       "    </tr>\n",
       "    <tr>\n",
       "      <th>4</th>\n",
       "      <td>1.31</td>\n",
       "      <td>2.0</td>\n",
       "      <td>13620.0</td>\n",
       "    </tr>\n",
       "  </tbody>\n",
       "</table>\n",
       "</div>"
      ],
      "text/plain": [
       "   Tempo de Execução (s)  CPU (%)  Memória RAM\n",
       "0                   1.94      2.0      13600.0\n",
       "1                   1.13      2.0      13556.0\n",
       "2                   1.32      2.0      13380.0\n",
       "3                   0.95      2.0      13604.0\n",
       "4                   1.31      2.0      13620.0"
      ]
     },
     "execution_count": 2,
     "metadata": {},
     "output_type": "execute_result"
    }
   ],
   "source": [
    "import pandas as pd\n",
    "\n",
    "df = pd.DataFrame({'Tempo de Execução (s)': time, 'CPU (%)': cpu, 'Memória RAM': mem})\n",
    "for col in df:\n",
    "    df[col] = df[col].astype(float)\n",
    "df.head()"
   ]
  },
  {
   "cell_type": "code",
   "execution_count": 3,
   "metadata": {},
   "outputs": [
    {
     "data": {
      "text/html": [
       "<div>\n",
       "<style scoped>\n",
       "    .dataframe tbody tr th:only-of-type {\n",
       "        vertical-align: middle;\n",
       "    }\n",
       "\n",
       "    .dataframe tbody tr th {\n",
       "        vertical-align: top;\n",
       "    }\n",
       "\n",
       "    .dataframe thead th {\n",
       "        text-align: right;\n",
       "    }\n",
       "</style>\n",
       "<table border=\"1\" class=\"dataframe\">\n",
       "  <thead>\n",
       "    <tr style=\"text-align: right;\">\n",
       "      <th></th>\n",
       "      <th>Tempo de Execução (s)</th>\n",
       "      <th>CPU (%)</th>\n",
       "      <th>Memória RAM</th>\n",
       "    </tr>\n",
       "  </thead>\n",
       "  <tbody>\n",
       "    <tr>\n",
       "      <th>count</th>\n",
       "      <td>100.000000</td>\n",
       "      <td>100.000000</td>\n",
       "      <td>100.000000</td>\n",
       "    </tr>\n",
       "    <tr>\n",
       "      <th>mean</th>\n",
       "      <td>1.123300</td>\n",
       "      <td>2.880000</td>\n",
       "      <td>13521.600000</td>\n",
       "    </tr>\n",
       "    <tr>\n",
       "      <th>std</th>\n",
       "      <td>0.215627</td>\n",
       "      <td>0.879394</td>\n",
       "      <td>102.184622</td>\n",
       "    </tr>\n",
       "    <tr>\n",
       "      <th>min</th>\n",
       "      <td>0.840000</td>\n",
       "      <td>1.000000</td>\n",
       "      <td>13204.000000</td>\n",
       "    </tr>\n",
       "    <tr>\n",
       "      <th>25%</th>\n",
       "      <td>0.960000</td>\n",
       "      <td>2.000000</td>\n",
       "      <td>13460.000000</td>\n",
       "    </tr>\n",
       "    <tr>\n",
       "      <th>50%</th>\n",
       "      <td>1.060000</td>\n",
       "      <td>3.000000</td>\n",
       "      <td>13544.000000</td>\n",
       "    </tr>\n",
       "    <tr>\n",
       "      <th>75%</th>\n",
       "      <td>1.230000</td>\n",
       "      <td>3.000000</td>\n",
       "      <td>13600.000000</td>\n",
       "    </tr>\n",
       "    <tr>\n",
       "      <th>max</th>\n",
       "      <td>1.940000</td>\n",
       "      <td>7.000000</td>\n",
       "      <td>13692.000000</td>\n",
       "    </tr>\n",
       "  </tbody>\n",
       "</table>\n",
       "</div>"
      ],
      "text/plain": [
       "       Tempo de Execução (s)     CPU (%)   Memória RAM\n",
       "count             100.000000  100.000000    100.000000\n",
       "mean                1.123300    2.880000  13521.600000\n",
       "std                 0.215627    0.879394    102.184622\n",
       "min                 0.840000    1.000000  13204.000000\n",
       "25%                 0.960000    2.000000  13460.000000\n",
       "50%                 1.060000    3.000000  13544.000000\n",
       "75%                 1.230000    3.000000  13600.000000\n",
       "max                 1.940000    7.000000  13692.000000"
      ]
     },
     "execution_count": 3,
     "metadata": {},
     "output_type": "execute_result"
    }
   ],
   "source": [
    "df.describe()"
   ]
  },
  {
   "cell_type": "code",
   "execution_count": null,
   "metadata": {},
   "outputs": [],
   "source": []
  }
 ],
 "metadata": {
  "kernelspec": {
   "display_name": "Python 3.9.6 64-bit",
   "language": "python",
   "name": "python3"
  },
  "language_info": {
   "codemirror_mode": {
    "name": "ipython",
    "version": 3
   },
   "file_extension": ".py",
   "mimetype": "text/x-python",
   "name": "python",
   "nbconvert_exporter": "python",
   "pygments_lexer": "ipython3",
   "version": "3.9.6"
  },
  "orig_nbformat": 4,
  "vscode": {
   "interpreter": {
    "hash": "0e2c653f6e013b81276f01a86a351f9dae2edf7e2a70fe14261247c9aab4c53e"
   }
  }
 },
 "nbformat": 4,
 "nbformat_minor": 2
}
