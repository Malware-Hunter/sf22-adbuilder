{
 "cells": [
  {
   "cell_type": "code",
   "execution_count": 6,
   "metadata": {},
   "outputs": [
    {
     "name": "stdout",
     "output_type": "stream",
     "text": [
      "\n",
      "*** abrindo arquivo: stats-moto_aa.txt\n",
      "\n",
      "*** abrindo arquivo: stats-moto_ab.txt\n",
      "\n",
      "*** abrindo arquivo: stats-moto_ac.txt\n"
     ]
    }
   ],
   "source": [
    "import glob\n",
    "\n",
    "time = []\n",
    "cpu = []\n",
    "mem = []\n",
    "\n",
    "for file in glob.glob('*.txt'):\n",
    "    print(\"\\n*** abrindo arquivo:\", file)\n",
    "    with open(file, 'r') as f:\n",
    "        for line in f:\n",
    "            split = str(line).split(' ') # split[5] - tempo de execução (segundos)\n",
    "            split_cpu = str(split[9]).split('%') # split_cpu[0] - % CPU utilizado\n",
    "            split_mem = split[12] # split_mem - % memória utilizada\n",
    "            time.append(split[5])\n",
    "            cpu.append(split_cpu[0])\n",
    "            mem.append(split_mem)"
   ]
  },
  {
   "cell_type": "code",
   "execution_count": 7,
   "metadata": {},
   "outputs": [
    {
     "data": {
      "text/html": [
       "<div>\n",
       "<style scoped>\n",
       "    .dataframe tbody tr th:only-of-type {\n",
       "        vertical-align: middle;\n",
       "    }\n",
       "\n",
       "    .dataframe tbody tr th {\n",
       "        vertical-align: top;\n",
       "    }\n",
       "\n",
       "    .dataframe thead th {\n",
       "        text-align: right;\n",
       "    }\n",
       "</style>\n",
       "<table border=\"1\" class=\"dataframe\">\n",
       "  <thead>\n",
       "    <tr style=\"text-align: right;\">\n",
       "      <th></th>\n",
       "      <th>Tempo de Execução (s)</th>\n",
       "      <th>CPU (%)</th>\n",
       "      <th>Memória RAM</th>\n",
       "    </tr>\n",
       "  </thead>\n",
       "  <tbody>\n",
       "    <tr>\n",
       "      <th>0</th>\n",
       "      <td>32.39</td>\n",
       "      <td>0.0</td>\n",
       "      <td>13464.0</td>\n",
       "    </tr>\n",
       "    <tr>\n",
       "      <th>1</th>\n",
       "      <td>28.99</td>\n",
       "      <td>0.0</td>\n",
       "      <td>13476.0</td>\n",
       "    </tr>\n",
       "    <tr>\n",
       "      <th>2</th>\n",
       "      <td>27.89</td>\n",
       "      <td>0.0</td>\n",
       "      <td>13640.0</td>\n",
       "    </tr>\n",
       "    <tr>\n",
       "      <th>3</th>\n",
       "      <td>21.06</td>\n",
       "      <td>0.0</td>\n",
       "      <td>13500.0</td>\n",
       "    </tr>\n",
       "    <tr>\n",
       "      <th>4</th>\n",
       "      <td>39.90</td>\n",
       "      <td>0.0</td>\n",
       "      <td>13628.0</td>\n",
       "    </tr>\n",
       "  </tbody>\n",
       "</table>\n",
       "</div>"
      ],
      "text/plain": [
       "   Tempo de Execução (s)  CPU (%)  Memória RAM\n",
       "0                  32.39      0.0      13464.0\n",
       "1                  28.99      0.0      13476.0\n",
       "2                  27.89      0.0      13640.0\n",
       "3                  21.06      0.0      13500.0\n",
       "4                  39.90      0.0      13628.0"
      ]
     },
     "execution_count": 7,
     "metadata": {},
     "output_type": "execute_result"
    }
   ],
   "source": [
    "import pandas as pd\n",
    "\n",
    "df = pd.DataFrame({'Tempo de Execução (s)': time, 'CPU (%)': cpu, 'Memória RAM': mem})\n",
    "for col in df:\n",
    "    df[col] = df[col].astype(float)\n",
    "df.head()"
   ]
  },
  {
   "cell_type": "code",
   "execution_count": 8,
   "metadata": {},
   "outputs": [
    {
     "data": {
      "text/html": [
       "<div>\n",
       "<style scoped>\n",
       "    .dataframe tbody tr th:only-of-type {\n",
       "        vertical-align: middle;\n",
       "    }\n",
       "\n",
       "    .dataframe tbody tr th {\n",
       "        vertical-align: top;\n",
       "    }\n",
       "\n",
       "    .dataframe thead th {\n",
       "        text-align: right;\n",
       "    }\n",
       "</style>\n",
       "<table border=\"1\" class=\"dataframe\">\n",
       "  <thead>\n",
       "    <tr style=\"text-align: right;\">\n",
       "      <th></th>\n",
       "      <th>Tempo de Execução (s)</th>\n",
       "      <th>CPU (%)</th>\n",
       "      <th>Memória RAM</th>\n",
       "    </tr>\n",
       "  </thead>\n",
       "  <tbody>\n",
       "    <tr>\n",
       "      <th>count</th>\n",
       "      <td>100.000000</td>\n",
       "      <td>100.000000</td>\n",
       "      <td>100.000000</td>\n",
       "    </tr>\n",
       "    <tr>\n",
       "      <th>mean</th>\n",
       "      <td>31.274400</td>\n",
       "      <td>0.100000</td>\n",
       "      <td>13640.720000</td>\n",
       "    </tr>\n",
       "    <tr>\n",
       "      <th>std</th>\n",
       "      <td>6.718516</td>\n",
       "      <td>0.301511</td>\n",
       "      <td>94.744961</td>\n",
       "    </tr>\n",
       "    <tr>\n",
       "      <th>min</th>\n",
       "      <td>19.870000</td>\n",
       "      <td>0.000000</td>\n",
       "      <td>13336.000000</td>\n",
       "    </tr>\n",
       "    <tr>\n",
       "      <th>25%</th>\n",
       "      <td>25.687500</td>\n",
       "      <td>0.000000</td>\n",
       "      <td>13610.000000</td>\n",
       "    </tr>\n",
       "    <tr>\n",
       "      <th>50%</th>\n",
       "      <td>31.210000</td>\n",
       "      <td>0.000000</td>\n",
       "      <td>13666.000000</td>\n",
       "    </tr>\n",
       "    <tr>\n",
       "      <th>75%</th>\n",
       "      <td>36.152500</td>\n",
       "      <td>0.000000</td>\n",
       "      <td>13696.000000</td>\n",
       "    </tr>\n",
       "    <tr>\n",
       "      <th>max</th>\n",
       "      <td>48.580000</td>\n",
       "      <td>1.000000</td>\n",
       "      <td>13796.000000</td>\n",
       "    </tr>\n",
       "  </tbody>\n",
       "</table>\n",
       "</div>"
      ],
      "text/plain": [
       "       Tempo de Execução (s)     CPU (%)   Memória RAM\n",
       "count             100.000000  100.000000    100.000000\n",
       "mean               31.274400    0.100000  13640.720000\n",
       "std                 6.718516    0.301511     94.744961\n",
       "min                19.870000    0.000000  13336.000000\n",
       "25%                25.687500    0.000000  13610.000000\n",
       "50%                31.210000    0.000000  13666.000000\n",
       "75%                36.152500    0.000000  13696.000000\n",
       "max                48.580000    1.000000  13796.000000"
      ]
     },
     "execution_count": 8,
     "metadata": {},
     "output_type": "execute_result"
    }
   ],
   "source": [
    "df.describe()"
   ]
  },
  {
   "cell_type": "code",
   "execution_count": null,
   "metadata": {},
   "outputs": [],
   "source": []
  }
 ],
 "metadata": {
  "kernelspec": {
   "display_name": "Python 3.9.6 64-bit",
   "language": "python",
   "name": "python3"
  },
  "language_info": {
   "codemirror_mode": {
    "name": "ipython",
    "version": 3
   },
   "file_extension": ".py",
   "mimetype": "text/x-python",
   "name": "python",
   "nbconvert_exporter": "python",
   "pygments_lexer": "ipython3",
   "version": "3.9.6"
  },
  "orig_nbformat": 4,
  "vscode": {
   "interpreter": {
    "hash": "0e2c653f6e013b81276f01a86a351f9dae2edf7e2a70fe14261247c9aab4c53e"
   }
  }
 },
 "nbformat": 4,
 "nbformat_minor": 2
}
