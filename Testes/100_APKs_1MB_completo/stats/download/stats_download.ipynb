{
 "cells": [
  {
   "cell_type": "code",
   "execution_count": 1,
   "metadata": {},
   "outputs": [
    {
     "name": "stdout",
     "output_type": "stream",
     "text": [
      "\n",
      "*** abrindo arquivo: stats-moto_aa.txt\n",
      "\n",
      "*** abrindo arquivo: stats-moto_ab.txt\n",
      "\n",
      "*** abrindo arquivo: stats-moto_ac.txt\n"
     ]
    }
   ],
   "source": [
    "import glob\n",
    "\n",
    "time = []\n",
    "cpu = []\n",
    "mem = []\n",
    "\n",
    "for file in glob.glob('*.txt'):\n",
    "    print(\"\\n*** abrindo arquivo:\", file)\n",
    "    with open(file, 'r') as f:\n",
    "        for line in f:\n",
    "            split = str(line).split(' ') # split[5] - tempo de execução (segundos)\n",
    "            split_cpu = str(split[9]).split('%') # split_cpu[0] - % CPU utilizado\n",
    "            split_mem = split[12] # split_mem - % memória utilizada\n",
    "            time.append(split[5])\n",
    "            cpu.append(split_cpu[0])\n",
    "            mem.append(split_mem)"
   ]
  },
  {
   "cell_type": "code",
   "execution_count": 2,
   "metadata": {},
   "outputs": [
    {
     "data": {
      "text/html": [
       "<div>\n",
       "<style scoped>\n",
       "    .dataframe tbody tr th:only-of-type {\n",
       "        vertical-align: middle;\n",
       "    }\n",
       "\n",
       "    .dataframe tbody tr th {\n",
       "        vertical-align: top;\n",
       "    }\n",
       "\n",
       "    .dataframe thead th {\n",
       "        text-align: right;\n",
       "    }\n",
       "</style>\n",
       "<table border=\"1\" class=\"dataframe\">\n",
       "  <thead>\n",
       "    <tr style=\"text-align: right;\">\n",
       "      <th></th>\n",
       "      <th>Tempo de Execução (s)</th>\n",
       "      <th>CPU (%)</th>\n",
       "      <th>Memória RAM</th>\n",
       "    </tr>\n",
       "  </thead>\n",
       "  <tbody>\n",
       "    <tr>\n",
       "      <th>0</th>\n",
       "      <td>3.80</td>\n",
       "      <td>0.0</td>\n",
       "      <td>13332.0</td>\n",
       "    </tr>\n",
       "    <tr>\n",
       "      <th>1</th>\n",
       "      <td>5.94</td>\n",
       "      <td>0.0</td>\n",
       "      <td>13768.0</td>\n",
       "    </tr>\n",
       "    <tr>\n",
       "      <th>2</th>\n",
       "      <td>3.14</td>\n",
       "      <td>0.0</td>\n",
       "      <td>13796.0</td>\n",
       "    </tr>\n",
       "    <tr>\n",
       "      <th>3</th>\n",
       "      <td>5.43</td>\n",
       "      <td>0.0</td>\n",
       "      <td>13728.0</td>\n",
       "    </tr>\n",
       "    <tr>\n",
       "      <th>4</th>\n",
       "      <td>3.78</td>\n",
       "      <td>0.0</td>\n",
       "      <td>13712.0</td>\n",
       "    </tr>\n",
       "  </tbody>\n",
       "</table>\n",
       "</div>"
      ],
      "text/plain": [
       "   Tempo de Execução (s)  CPU (%)  Memória RAM\n",
       "0                   3.80      0.0      13332.0\n",
       "1                   5.94      0.0      13768.0\n",
       "2                   3.14      0.0      13796.0\n",
       "3                   5.43      0.0      13728.0\n",
       "4                   3.78      0.0      13712.0"
      ]
     },
     "execution_count": 2,
     "metadata": {},
     "output_type": "execute_result"
    }
   ],
   "source": [
    "import pandas as pd\n",
    "\n",
    "df = pd.DataFrame({'Tempo de Execução (s)': time, 'CPU (%)': cpu, 'Memória RAM': mem})\n",
    "for col in df:\n",
    "    df[col] = df[col].astype(float)\n",
    "df.head()"
   ]
  },
  {
   "cell_type": "code",
   "execution_count": 3,
   "metadata": {},
   "outputs": [
    {
     "data": {
      "text/html": [
       "<div>\n",
       "<style scoped>\n",
       "    .dataframe tbody tr th:only-of-type {\n",
       "        vertical-align: middle;\n",
       "    }\n",
       "\n",
       "    .dataframe tbody tr th {\n",
       "        vertical-align: top;\n",
       "    }\n",
       "\n",
       "    .dataframe thead th {\n",
       "        text-align: right;\n",
       "    }\n",
       "</style>\n",
       "<table border=\"1\" class=\"dataframe\">\n",
       "  <thead>\n",
       "    <tr style=\"text-align: right;\">\n",
       "      <th></th>\n",
       "      <th>Tempo de Execução (s)</th>\n",
       "      <th>CPU (%)</th>\n",
       "      <th>Memória RAM</th>\n",
       "    </tr>\n",
       "  </thead>\n",
       "  <tbody>\n",
       "    <tr>\n",
       "      <th>count</th>\n",
       "      <td>100.000000</td>\n",
       "      <td>100.000000</td>\n",
       "      <td>100.000000</td>\n",
       "    </tr>\n",
       "    <tr>\n",
       "      <th>mean</th>\n",
       "      <td>3.735400</td>\n",
       "      <td>0.500000</td>\n",
       "      <td>13690.480000</td>\n",
       "    </tr>\n",
       "    <tr>\n",
       "      <th>std</th>\n",
       "      <td>1.981539</td>\n",
       "      <td>0.659047</td>\n",
       "      <td>100.595046</td>\n",
       "    </tr>\n",
       "    <tr>\n",
       "      <th>min</th>\n",
       "      <td>1.090000</td>\n",
       "      <td>0.000000</td>\n",
       "      <td>13240.000000</td>\n",
       "    </tr>\n",
       "    <tr>\n",
       "      <th>25%</th>\n",
       "      <td>2.207500</td>\n",
       "      <td>0.000000</td>\n",
       "      <td>13652.000000</td>\n",
       "    </tr>\n",
       "    <tr>\n",
       "      <th>50%</th>\n",
       "      <td>3.445000</td>\n",
       "      <td>0.000000</td>\n",
       "      <td>13712.000000</td>\n",
       "    </tr>\n",
       "    <tr>\n",
       "      <th>75%</th>\n",
       "      <td>4.820000</td>\n",
       "      <td>1.000000</td>\n",
       "      <td>13753.000000</td>\n",
       "    </tr>\n",
       "    <tr>\n",
       "      <th>max</th>\n",
       "      <td>11.160000</td>\n",
       "      <td>3.000000</td>\n",
       "      <td>13828.000000</td>\n",
       "    </tr>\n",
       "  </tbody>\n",
       "</table>\n",
       "</div>"
      ],
      "text/plain": [
       "       Tempo de Execução (s)     CPU (%)   Memória RAM\n",
       "count             100.000000  100.000000    100.000000\n",
       "mean                3.735400    0.500000  13690.480000\n",
       "std                 1.981539    0.659047    100.595046\n",
       "min                 1.090000    0.000000  13240.000000\n",
       "25%                 2.207500    0.000000  13652.000000\n",
       "50%                 3.445000    0.000000  13712.000000\n",
       "75%                 4.820000    1.000000  13753.000000\n",
       "max                11.160000    3.000000  13828.000000"
      ]
     },
     "execution_count": 3,
     "metadata": {},
     "output_type": "execute_result"
    }
   ],
   "source": [
    "df.describe()"
   ]
  }
 ],
 "metadata": {
  "kernelspec": {
   "display_name": "Python 3.9.6 64-bit",
   "language": "python",
   "name": "python3"
  },
  "language_info": {
   "codemirror_mode": {
    "name": "ipython",
    "version": 3
   },
   "file_extension": ".py",
   "mimetype": "text/x-python",
   "name": "python",
   "nbconvert_exporter": "python",
   "pygments_lexer": "ipython3",
   "version": "3.9.6"
  },
  "orig_nbformat": 4,
  "vscode": {
   "interpreter": {
    "hash": "0e2c653f6e013b81276f01a86a351f9dae2edf7e2a70fe14261247c9aab4c53e"
   }
  }
 },
 "nbformat": 4,
 "nbformat_minor": 2
}
