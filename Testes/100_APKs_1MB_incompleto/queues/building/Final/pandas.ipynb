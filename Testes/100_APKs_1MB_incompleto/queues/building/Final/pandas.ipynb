{
 "cells": [
  {
   "cell_type": "code",
   "execution_count": 1,
   "metadata": {},
   "outputs": [
    {
     "data": {
      "text/plain": [
       "(78, 4370)"
      ]
     },
     "execution_count": 1,
     "metadata": {},
     "output_type": "execute_result"
    }
   ],
   "source": [
    "import pandas as pd\n",
    "\n",
    "df = pd.read_csv(\"MotoDroid_dataset.csv\")\n",
    "df.shape"
   ]
  },
  {
   "cell_type": "code",
   "execution_count": 2,
   "metadata": {},
   "outputs": [
    {
     "data": {
      "text/html": [
       "<div>\n",
       "<style scoped>\n",
       "    .dataframe tbody tr th:only-of-type {\n",
       "        vertical-align: middle;\n",
       "    }\n",
       "\n",
       "    .dataframe tbody tr th {\n",
       "        vertical-align: top;\n",
       "    }\n",
       "\n",
       "    .dataframe thead th {\n",
       "        text-align: right;\n",
       "    }\n",
       "</style>\n",
       "<table border=\"1\" class=\"dataframe\">\n",
       "  <thead>\n",
       "    <tr style=\"text-align: right;\">\n",
       "      <th></th>\n",
       "      <th>SHA256</th>\n",
       "      <th>CLASS</th>\n",
       "    </tr>\n",
       "  </thead>\n",
       "  <tbody>\n",
       "    <tr>\n",
       "      <th>0</th>\n",
       "      <td>000040290a90f689fb71a84a1d85064867e6a4924e5b03...</td>\n",
       "      <td>0</td>\n",
       "    </tr>\n",
       "    <tr>\n",
       "      <th>1</th>\n",
       "      <td>0000764713b286cfe7e8e76c7038c92312977712d9c5a8...</td>\n",
       "      <td>36</td>\n",
       "    </tr>\n",
       "    <tr>\n",
       "      <th>2</th>\n",
       "      <td>0000a7b09e2b695d069bc7ba4b9bd797f24eb532e0ad88...</td>\n",
       "      <td>0</td>\n",
       "    </tr>\n",
       "    <tr>\n",
       "      <th>3</th>\n",
       "      <td>0001048c77b5fd01fd2c0c36155bb73c73533f4d3f0652...</td>\n",
       "      <td>0</td>\n",
       "    </tr>\n",
       "    <tr>\n",
       "      <th>4</th>\n",
       "      <td>0002f45e396b4d948ed0e9d2f818ec9f1b10f592347d43...</td>\n",
       "      <td>32</td>\n",
       "    </tr>\n",
       "    <tr>\n",
       "      <th>5</th>\n",
       "      <td>0003d47ade8f130801e263d4d26d487e66731b25d89d8a...</td>\n",
       "      <td>2</td>\n",
       "    </tr>\n",
       "    <tr>\n",
       "      <th>6</th>\n",
       "      <td>00050ee1efee0602426671153ad0487a46c235d5ffb397...</td>\n",
       "      <td>36</td>\n",
       "    </tr>\n",
       "    <tr>\n",
       "      <th>7</th>\n",
       "      <td>0006c02b163072546759fa6700701c1735cbf243eae86c...</td>\n",
       "      <td>0</td>\n",
       "    </tr>\n",
       "    <tr>\n",
       "      <th>8</th>\n",
       "      <td>0006e3e18c1666579a2469bb8bddfa3a632612f2e943de...</td>\n",
       "      <td>16</td>\n",
       "    </tr>\n",
       "    <tr>\n",
       "      <th>9</th>\n",
       "      <td>00077f1a34cc84dadeb5e04964a6d0fc83ba6d64ef1fd7...</td>\n",
       "      <td>12</td>\n",
       "    </tr>\n",
       "  </tbody>\n",
       "</table>\n",
       "</div>"
      ],
      "text/plain": [
       "                                              SHA256  CLASS\n",
       "0  000040290a90f689fb71a84a1d85064867e6a4924e5b03...      0\n",
       "1  0000764713b286cfe7e8e76c7038c92312977712d9c5a8...     36\n",
       "2  0000a7b09e2b695d069bc7ba4b9bd797f24eb532e0ad88...      0\n",
       "3  0001048c77b5fd01fd2c0c36155bb73c73533f4d3f0652...      0\n",
       "4  0002f45e396b4d948ed0e9d2f818ec9f1b10f592347d43...     32\n",
       "5  0003d47ade8f130801e263d4d26d487e66731b25d89d8a...      2\n",
       "6  00050ee1efee0602426671153ad0487a46c235d5ffb397...     36\n",
       "7  0006c02b163072546759fa6700701c1735cbf243eae86c...      0\n",
       "8  0006e3e18c1666579a2469bb8bddfa3a632612f2e943de...     16\n",
       "9  00077f1a34cc84dadeb5e04964a6d0fc83ba6d64ef1fd7...     12"
      ]
     },
     "execution_count": 2,
     "metadata": {},
     "output_type": "execute_result"
    }
   ],
   "source": [
    "df_aux = pd.DataFrame()\n",
    "df_aux[\"SHA256\"] = df[\"SHA256\"]\n",
    "df_aux[\"CLASS\"] = df[\"CLASS\"]\n",
    "df_aux.head(10)"
   ]
  }
 ],
 "metadata": {
  "kernelspec": {
   "display_name": "Python 3.9.13 64-bit (windows store)",
   "language": "python",
   "name": "python3"
  },
  "language_info": {
   "codemirror_mode": {
    "name": "ipython",
    "version": 3
   },
   "file_extension": ".py",
   "mimetype": "text/x-python",
   "name": "python",
   "nbconvert_exporter": "python",
   "pygments_lexer": "ipython3",
   "version": "3.9.13"
  },
  "orig_nbformat": 4,
  "vscode": {
   "interpreter": {
    "hash": "d91edcd1d680c704b7f2fade50b7432a288b39baa723c7dec24d1ad2f238d26b"
   }
  }
 },
 "nbformat": 4,
 "nbformat_minor": 2
}
