{
 "cells": [
  {
   "cell_type": "code",
   "execution_count": 4,
   "metadata": {},
   "outputs": [
    {
     "name": "stdout",
     "output_type": "stream",
     "text": [
      "\n",
      "*** abrindo arquivo: stats-moto_aa.txt\n",
      "\n",
      "*** abrindo arquivo: stats-moto_ab.txt\n",
      "\n",
      "*** abrindo arquivo: stats-moto_ac.txt\n"
     ]
    }
   ],
   "source": [
    "import glob\n",
    "\n",
    "time = []\n",
    "cpu = []\n",
    "mem = []\n",
    "\n",
    "for file in glob.glob('*.txt'):\n",
    "    print(\"\\n*** abrindo arquivo:\", file)\n",
    "    with open(file, 'r') as f:\n",
    "        for line in f:\n",
    "            split = str(line).split(' ') # split[5] - tempo de execução (segundos)\n",
    "            split_cpu = str(split[9]).split('%') # split_cpu[0] - % CPU utilizado\n",
    "            split_mem = split[12] # split_mem - % memória utilizada\n",
    "            time.append(split[5])\n",
    "            cpu.append(split_cpu[0])\n",
    "            mem.append(split_mem)"
   ]
  },
  {
   "cell_type": "code",
   "execution_count": 5,
   "metadata": {},
   "outputs": [
    {
     "data": {
      "text/html": [
       "<div>\n",
       "<style scoped>\n",
       "    .dataframe tbody tr th:only-of-type {\n",
       "        vertical-align: middle;\n",
       "    }\n",
       "\n",
       "    .dataframe tbody tr th {\n",
       "        vertical-align: top;\n",
       "    }\n",
       "\n",
       "    .dataframe thead th {\n",
       "        text-align: right;\n",
       "    }\n",
       "</style>\n",
       "<table border=\"1\" class=\"dataframe\">\n",
       "  <thead>\n",
       "    <tr style=\"text-align: right;\">\n",
       "      <th></th>\n",
       "      <th>Tempo de Execução (s)</th>\n",
       "      <th>CPU (%)</th>\n",
       "      <th>Memória RAM</th>\n",
       "    </tr>\n",
       "  </thead>\n",
       "  <tbody>\n",
       "    <tr>\n",
       "      <th>0</th>\n",
       "      <td>29.12</td>\n",
       "      <td>0.0</td>\n",
       "      <td>13708.0</td>\n",
       "    </tr>\n",
       "    <tr>\n",
       "      <th>1</th>\n",
       "      <td>20.82</td>\n",
       "      <td>0.0</td>\n",
       "      <td>13664.0</td>\n",
       "    </tr>\n",
       "    <tr>\n",
       "      <th>2</th>\n",
       "      <td>10.45</td>\n",
       "      <td>0.0</td>\n",
       "      <td>13736.0</td>\n",
       "    </tr>\n",
       "    <tr>\n",
       "      <th>3</th>\n",
       "      <td>8.25</td>\n",
       "      <td>0.0</td>\n",
       "      <td>13540.0</td>\n",
       "    </tr>\n",
       "    <tr>\n",
       "      <th>4</th>\n",
       "      <td>20.55</td>\n",
       "      <td>0.0</td>\n",
       "      <td>13672.0</td>\n",
       "    </tr>\n",
       "  </tbody>\n",
       "</table>\n",
       "</div>"
      ],
      "text/plain": [
       "   Tempo de Execução (s)  CPU (%)  Memória RAM\n",
       "0                  29.12      0.0      13708.0\n",
       "1                  20.82      0.0      13664.0\n",
       "2                  10.45      0.0      13736.0\n",
       "3                   8.25      0.0      13540.0\n",
       "4                  20.55      0.0      13672.0"
      ]
     },
     "execution_count": 5,
     "metadata": {},
     "output_type": "execute_result"
    }
   ],
   "source": [
    "import pandas as pd\n",
    "\n",
    "df = pd.DataFrame({'Tempo de Execução (s)': time, 'CPU (%)': cpu, 'Memória RAM': mem})\n",
    "for col in df:\n",
    "    df[col] = df[col].astype(float)\n",
    "df.head()"
   ]
  },
  {
   "cell_type": "code",
   "execution_count": 6,
   "metadata": {},
   "outputs": [
    {
     "data": {
      "text/html": [
       "<div>\n",
       "<style scoped>\n",
       "    .dataframe tbody tr th:only-of-type {\n",
       "        vertical-align: middle;\n",
       "    }\n",
       "\n",
       "    .dataframe tbody tr th {\n",
       "        vertical-align: top;\n",
       "    }\n",
       "\n",
       "    .dataframe thead th {\n",
       "        text-align: right;\n",
       "    }\n",
       "</style>\n",
       "<table border=\"1\" class=\"dataframe\">\n",
       "  <thead>\n",
       "    <tr style=\"text-align: right;\">\n",
       "      <th></th>\n",
       "      <th>Tempo de Execução (s)</th>\n",
       "      <th>CPU (%)</th>\n",
       "      <th>Memória RAM</th>\n",
       "    </tr>\n",
       "  </thead>\n",
       "  <tbody>\n",
       "    <tr>\n",
       "      <th>count</th>\n",
       "      <td>100.000000</td>\n",
       "      <td>100.000000</td>\n",
       "      <td>100.000000</td>\n",
       "    </tr>\n",
       "    <tr>\n",
       "      <th>mean</th>\n",
       "      <td>15.425000</td>\n",
       "      <td>0.090000</td>\n",
       "      <td>13692.720000</td>\n",
       "    </tr>\n",
       "    <tr>\n",
       "      <th>std</th>\n",
       "      <td>5.395349</td>\n",
       "      <td>0.287623</td>\n",
       "      <td>81.378785</td>\n",
       "    </tr>\n",
       "    <tr>\n",
       "      <th>min</th>\n",
       "      <td>6.410000</td>\n",
       "      <td>0.000000</td>\n",
       "      <td>13516.000000</td>\n",
       "    </tr>\n",
       "    <tr>\n",
       "      <th>25%</th>\n",
       "      <td>11.012500</td>\n",
       "      <td>0.000000</td>\n",
       "      <td>13655.000000</td>\n",
       "    </tr>\n",
       "    <tr>\n",
       "      <th>50%</th>\n",
       "      <td>15.660000</td>\n",
       "      <td>0.000000</td>\n",
       "      <td>13704.000000</td>\n",
       "    </tr>\n",
       "    <tr>\n",
       "      <th>75%</th>\n",
       "      <td>19.067500</td>\n",
       "      <td>0.000000</td>\n",
       "      <td>13741.000000</td>\n",
       "    </tr>\n",
       "    <tr>\n",
       "      <th>max</th>\n",
       "      <td>31.750000</td>\n",
       "      <td>1.000000</td>\n",
       "      <td>13836.000000</td>\n",
       "    </tr>\n",
       "  </tbody>\n",
       "</table>\n",
       "</div>"
      ],
      "text/plain": [
       "       Tempo de Execução (s)     CPU (%)   Memória RAM\n",
       "count             100.000000  100.000000    100.000000\n",
       "mean               15.425000    0.090000  13692.720000\n",
       "std                 5.395349    0.287623     81.378785\n",
       "min                 6.410000    0.000000  13516.000000\n",
       "25%                11.012500    0.000000  13655.000000\n",
       "50%                15.660000    0.000000  13704.000000\n",
       "75%                19.067500    0.000000  13741.000000\n",
       "max                31.750000    1.000000  13836.000000"
      ]
     },
     "execution_count": 6,
     "metadata": {},
     "output_type": "execute_result"
    }
   ],
   "source": [
    "df.describe()"
   ]
  },
  {
   "cell_type": "markdown",
   "metadata": {},
   "source": []
  },
  {
   "cell_type": "code",
   "execution_count": null,
   "metadata": {},
   "outputs": [],
   "source": []
  }
 ],
 "metadata": {
  "kernelspec": {
   "display_name": "Python 3.9.6 64-bit",
   "language": "python",
   "name": "python3"
  },
  "language_info": {
   "codemirror_mode": {
    "name": "ipython",
    "version": 3
   },
   "file_extension": ".py",
   "mimetype": "text/x-python",
   "name": "python",
   "nbconvert_exporter": "python",
   "pygments_lexer": "ipython3",
   "version": "3.9.6"
  },
  "orig_nbformat": 4,
  "vscode": {
   "interpreter": {
    "hash": "0e2c653f6e013b81276f01a86a351f9dae2edf7e2a70fe14261247c9aab4c53e"
   }
  }
 },
 "nbformat": 4,
 "nbformat_minor": 2
}
