{
 "cells": [
  {
   "cell_type": "code",
   "execution_count": 1,
   "metadata": {},
   "outputs": [
    {
     "name": "stdout",
     "output_type": "stream",
     "text": [
      "\n",
      "*** abrindo arquivo: stats-moto_aa.txt\n",
      "\n",
      "*** abrindo arquivo: stats-moto_ab.txt\n",
      "\n",
      "*** abrindo arquivo: stats-moto_ac.txt\n"
     ]
    }
   ],
   "source": [
    "import glob\n",
    "\n",
    "time = []\n",
    "cpu = []\n",
    "mem = []\n",
    "\n",
    "for file in glob.glob('*.txt'):\n",
    "    print(\"\\n*** abrindo arquivo:\", file)\n",
    "    with open(file, 'r') as f:\n",
    "        for line in f:\n",
    "            split = str(line).split(' ') # split[5] - tempo de execução (segundos)\n",
    "            split_cpu = str(split[9]).split('%') # split_cpu[0] - % CPU utilizado\n",
    "            split_mem = split[12] # split_mem - % memória utilizada\n",
    "            time.append(split[5])\n",
    "            cpu.append(split_cpu[0])\n",
    "            mem.append(split_mem)"
   ]
  },
  {
   "cell_type": "code",
   "execution_count": 2,
   "metadata": {},
   "outputs": [
    {
     "data": {
      "text/html": [
       "<div>\n",
       "<style scoped>\n",
       "    .dataframe tbody tr th:only-of-type {\n",
       "        vertical-align: middle;\n",
       "    }\n",
       "\n",
       "    .dataframe tbody tr th {\n",
       "        vertical-align: top;\n",
       "    }\n",
       "\n",
       "    .dataframe thead th {\n",
       "        text-align: right;\n",
       "    }\n",
       "</style>\n",
       "<table border=\"1\" class=\"dataframe\">\n",
       "  <thead>\n",
       "    <tr style=\"text-align: right;\">\n",
       "      <th></th>\n",
       "      <th>Tempo de Execução (s)</th>\n",
       "      <th>CPU (%)</th>\n",
       "      <th>Memória RAM</th>\n",
       "    </tr>\n",
       "  </thead>\n",
       "  <tbody>\n",
       "    <tr>\n",
       "      <th>0</th>\n",
       "      <td>247.64</td>\n",
       "      <td>0.0</td>\n",
       "      <td>13532.0</td>\n",
       "    </tr>\n",
       "    <tr>\n",
       "      <th>1</th>\n",
       "      <td>72.23</td>\n",
       "      <td>0.0</td>\n",
       "      <td>13744.0</td>\n",
       "    </tr>\n",
       "    <tr>\n",
       "      <th>2</th>\n",
       "      <td>54.34</td>\n",
       "      <td>0.0</td>\n",
       "      <td>13856.0</td>\n",
       "    </tr>\n",
       "    <tr>\n",
       "      <th>3</th>\n",
       "      <td>51.36</td>\n",
       "      <td>0.0</td>\n",
       "      <td>13748.0</td>\n",
       "    </tr>\n",
       "    <tr>\n",
       "      <th>4</th>\n",
       "      <td>68.16</td>\n",
       "      <td>0.0</td>\n",
       "      <td>13628.0</td>\n",
       "    </tr>\n",
       "  </tbody>\n",
       "</table>\n",
       "</div>"
      ],
      "text/plain": [
       "   Tempo de Execução (s)  CPU (%)  Memória RAM\n",
       "0                 247.64      0.0      13532.0\n",
       "1                  72.23      0.0      13744.0\n",
       "2                  54.34      0.0      13856.0\n",
       "3                  51.36      0.0      13748.0\n",
       "4                  68.16      0.0      13628.0"
      ]
     },
     "execution_count": 2,
     "metadata": {},
     "output_type": "execute_result"
    }
   ],
   "source": [
    "import pandas as pd\n",
    "\n",
    "df = pd.DataFrame({'Tempo de Execução (s)': time, 'CPU (%)': cpu, 'Memória RAM': mem})\n",
    "for col in df:\n",
    "    df[col] = df[col].astype(float)\n",
    "df.head()"
   ]
  },
  {
   "cell_type": "code",
   "execution_count": 3,
   "metadata": {},
   "outputs": [
    {
     "data": {
      "text/html": [
       "<div>\n",
       "<style scoped>\n",
       "    .dataframe tbody tr th:only-of-type {\n",
       "        vertical-align: middle;\n",
       "    }\n",
       "\n",
       "    .dataframe tbody tr th {\n",
       "        vertical-align: top;\n",
       "    }\n",
       "\n",
       "    .dataframe thead th {\n",
       "        text-align: right;\n",
       "    }\n",
       "</style>\n",
       "<table border=\"1\" class=\"dataframe\">\n",
       "  <thead>\n",
       "    <tr style=\"text-align: right;\">\n",
       "      <th></th>\n",
       "      <th>Tempo de Execução (s)</th>\n",
       "      <th>CPU (%)</th>\n",
       "      <th>Memória RAM</th>\n",
       "    </tr>\n",
       "  </thead>\n",
       "  <tbody>\n",
       "    <tr>\n",
       "      <th>count</th>\n",
       "      <td>100.000000</td>\n",
       "      <td>100.0</td>\n",
       "      <td>100.000000</td>\n",
       "    </tr>\n",
       "    <tr>\n",
       "      <th>mean</th>\n",
       "      <td>132.983600</td>\n",
       "      <td>0.0</td>\n",
       "      <td>13694.640000</td>\n",
       "    </tr>\n",
       "    <tr>\n",
       "      <th>std</th>\n",
       "      <td>79.593248</td>\n",
       "      <td>0.0</td>\n",
       "      <td>85.445419</td>\n",
       "    </tr>\n",
       "    <tr>\n",
       "      <th>min</th>\n",
       "      <td>41.640000</td>\n",
       "      <td>0.0</td>\n",
       "      <td>13492.000000</td>\n",
       "    </tr>\n",
       "    <tr>\n",
       "      <th>25%</th>\n",
       "      <td>72.380000</td>\n",
       "      <td>0.0</td>\n",
       "      <td>13647.000000</td>\n",
       "    </tr>\n",
       "    <tr>\n",
       "      <th>50%</th>\n",
       "      <td>111.010000</td>\n",
       "      <td>0.0</td>\n",
       "      <td>13712.000000</td>\n",
       "    </tr>\n",
       "    <tr>\n",
       "      <th>75%</th>\n",
       "      <td>175.625000</td>\n",
       "      <td>0.0</td>\n",
       "      <td>13765.000000</td>\n",
       "    </tr>\n",
       "    <tr>\n",
       "      <th>max</th>\n",
       "      <td>382.590000</td>\n",
       "      <td>0.0</td>\n",
       "      <td>13856.000000</td>\n",
       "    </tr>\n",
       "  </tbody>\n",
       "</table>\n",
       "</div>"
      ],
      "text/plain": [
       "       Tempo de Execução (s)  CPU (%)   Memória RAM\n",
       "count             100.000000    100.0    100.000000\n",
       "mean              132.983600      0.0  13694.640000\n",
       "std                79.593248      0.0     85.445419\n",
       "min                41.640000      0.0  13492.000000\n",
       "25%                72.380000      0.0  13647.000000\n",
       "50%               111.010000      0.0  13712.000000\n",
       "75%               175.625000      0.0  13765.000000\n",
       "max               382.590000      0.0  13856.000000"
      ]
     },
     "execution_count": 3,
     "metadata": {},
     "output_type": "execute_result"
    }
   ],
   "source": [
    "df.describe()"
   ]
  },
  {
   "cell_type": "code",
   "execution_count": null,
   "metadata": {},
   "outputs": [],
   "source": []
  }
 ],
 "metadata": {
  "kernelspec": {
   "display_name": "Python 3.9.6 64-bit",
   "language": "python",
   "name": "python3"
  },
  "language_info": {
   "codemirror_mode": {
    "name": "ipython",
    "version": 3
   },
   "file_extension": ".py",
   "mimetype": "text/x-python",
   "name": "python",
   "nbconvert_exporter": "python",
   "pygments_lexer": "ipython3",
   "version": "3.9.6"
  },
  "orig_nbformat": 4,
  "vscode": {
   "interpreter": {
    "hash": "0e2c653f6e013b81276f01a86a351f9dae2edf7e2a70fe14261247c9aab4c53e"
   }
  }
 },
 "nbformat": 4,
 "nbformat_minor": 2
}
