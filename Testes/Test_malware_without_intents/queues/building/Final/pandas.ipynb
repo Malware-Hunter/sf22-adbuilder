{
 "cells": [
  {
   "cell_type": "code",
   "execution_count": 1,
   "metadata": {},
   "outputs": [
    {
     "data": {
      "text/plain": [
       "(1, 12)"
      ]
     },
     "execution_count": 1,
     "metadata": {},
     "output_type": "execute_result"
    }
   ],
   "source": [
    "import pandas as pd\n",
    "\n",
    "df = pd.read_csv(\"MotoDroid_dataset.csv\")\n",
    "df.shape"
   ]
  },
  {
   "cell_type": "code",
   "execution_count": 2,
   "metadata": {},
   "outputs": [
    {
     "data": {
      "text/html": [
       "<div>\n",
       "<style scoped>\n",
       "    .dataframe tbody tr th:only-of-type {\n",
       "        vertical-align: middle;\n",
       "    }\n",
       "\n",
       "    .dataframe tbody tr th {\n",
       "        vertical-align: top;\n",
       "    }\n",
       "\n",
       "    .dataframe thead th {\n",
       "        text-align: right;\n",
       "    }\n",
       "</style>\n",
       "<table border=\"1\" class=\"dataframe\">\n",
       "  <thead>\n",
       "    <tr style=\"text-align: right;\">\n",
       "      <th></th>\n",
       "      <th>SHA256</th>\n",
       "      <th>NOME</th>\n",
       "      <th>PACOTE</th>\n",
       "      <th>API_MIN</th>\n",
       "      <th>API</th>\n",
       "      <th>Permission :: ACCESS_DOWNLOAD_MANAGER</th>\n",
       "      <th>Permission :: ACCESS_NETWORK_STATE</th>\n",
       "      <th>Permission :: READ_PHONE_STATE</th>\n",
       "      <th>Permission :: ACCESS_DOWNLOAD_MANAGER_ADVANCED</th>\n",
       "      <th>Permission :: RECEIVE_BOOT_COMPLETED</th>\n",
       "      <th>Permission :: INTERNET</th>\n",
       "      <th>CLASS</th>\n",
       "    </tr>\n",
       "  </thead>\n",
       "  <tbody>\n",
       "    <tr>\n",
       "      <th>0</th>\n",
       "      <td>0007631191b108668f1fb8f139d95c059694a20d95b214...</td>\n",
       "      <td>com.android.providers.downloadsmanager</td>\n",
       "      <td>com.android.providers.downloadsmanager</td>\n",
       "      <td>4</td>\n",
       "      <td>4</td>\n",
       "      <td>1</td>\n",
       "      <td>1</td>\n",
       "      <td>1</td>\n",
       "      <td>1</td>\n",
       "      <td>1</td>\n",
       "      <td>1</td>\n",
       "      <td>22</td>\n",
       "    </tr>\n",
       "  </tbody>\n",
       "</table>\n",
       "</div>"
      ],
      "text/plain": [
       "                                              SHA256  \\\n",
       "0  0007631191b108668f1fb8f139d95c059694a20d95b214...   \n",
       "\n",
       "                                     NOME  \\\n",
       "0  com.android.providers.downloadsmanager   \n",
       "\n",
       "                                   PACOTE  API_MIN  API  \\\n",
       "0  com.android.providers.downloadsmanager        4    4   \n",
       "\n",
       "   Permission :: ACCESS_DOWNLOAD_MANAGER  Permission :: ACCESS_NETWORK_STATE  \\\n",
       "0                                      1                                   1   \n",
       "\n",
       "   Permission :: READ_PHONE_STATE  \\\n",
       "0                               1   \n",
       "\n",
       "   Permission :: ACCESS_DOWNLOAD_MANAGER_ADVANCED  \\\n",
       "0                                               1   \n",
       "\n",
       "   Permission :: RECEIVE_BOOT_COMPLETED  Permission :: INTERNET  CLASS  \n",
       "0                                     1                       1     22  "
      ]
     },
     "execution_count": 2,
     "metadata": {},
     "output_type": "execute_result"
    }
   ],
   "source": [
    "df.head()"
   ]
  }
 ],
 "metadata": {
  "kernelspec": {
   "display_name": "Python 3.9.13 64-bit (windows store)",
   "language": "python",
   "name": "python3"
  },
  "language_info": {
   "codemirror_mode": {
    "name": "ipython",
    "version": 3
   },
   "file_extension": ".py",
   "mimetype": "text/x-python",
   "name": "python",
   "nbconvert_exporter": "python",
   "pygments_lexer": "ipython3",
   "version": "3.9.13"
  },
  "orig_nbformat": 4,
  "vscode": {
   "interpreter": {
    "hash": "d91edcd1d680c704b7f2fade50b7432a288b39baa723c7dec24d1ad2f238d26b"
   }
  }
 },
 "nbformat": 4,
 "nbformat_minor": 2
}
