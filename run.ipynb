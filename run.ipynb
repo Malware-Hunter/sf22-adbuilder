{
 "cells": [
  {
   "cell_type": "markdown",
   "metadata": {},
   "source": [
    "### Rascunho"
   ]
  },
  {
   "cell_type": "code",
   "execution_count": null,
   "metadata": {},
   "outputs": [],
   "source": [
    "import argparse\n",
    "\n",
    "def main():\n",
    "    parser = argparse.ArgumentParser()\n",
    "    parser.add_argument('--name', type=str, default='World')\n",
    "    args = parser.parse_args()\n",
    "    print('Hello, {}!'.format(args.name))\n",
    "\n",
    "\n",
    "def main_2():\n",
    "    parser = argparse.ArgumentParser()\n",
    "    parser.add_argument(\"--square\", \"-sqr\", type=int, help=\"Digite um número inteiro para retornar seu quadrado.\")\n",
    "    args = parser.parse_args()\n",
    "    print(\"Quadrado de {}: {}\".format(args.square, args.square*args.square))\n",
    "\n",
    "#main()\n",
    "main_2()"
   ]
  },
  {
   "cell_type": "markdown",
   "metadata": {},
   "source": [
    "### Testes"
   ]
  },
  {
   "cell_type": "code",
   "execution_count": 11,
   "metadata": {},
   "outputs": [
    {
     "name": "stderr",
     "output_type": "stream",
     "text": [
      "usage: ipykernel_launcher.py [-h] [--command COMMAND]\n",
      "ipykernel_launcher.py: error: unrecognized arguments: --ip=127.0.0.1 --stdin=9003 --control=9001 --hb=9000 --Session.signature_scheme=\"hmac-sha256\" --Session.key=b\"c8b8876e-1243-436a-9218-154332cc4abf\" --shell=9002 --transport=\"tcp\" --iopub=9004 --f=c:\\Users\\barce\\AppData\\Roaming\\jupyter\\runtime\\kernel-v2-18588MlJ1EFFxoy2K.json\n"
     ]
    },
    {
     "ename": "SystemExit",
     "evalue": "2",
     "output_type": "error",
     "traceback": [
      "An exception has occurred, use %tb to see the full traceback.\n",
      "\u001b[1;31mSystemExit\u001b[0m\u001b[1;31m:\u001b[0m 2\n"
     ]
    },
    {
     "name": "stderr",
     "output_type": "stream",
     "text": [
      "C:\\Users\\barce\\AppData\\Local\\Packages\\PythonSoftwareFoundation.Python.3.9_qbz5n2kfra8p0\\LocalCache\\local-packages\\Python39\\site-packages\\IPython\\core\\interactiveshell.py:3259: UserWarning: To exit: use 'exit', 'quit', or Ctrl-D.\n",
      "  warn(\"To exit: use 'exit', 'quit', or Ctrl-D.\", stacklevel=1)\n"
     ]
    }
   ],
   "source": [
    "import argparse\n",
    "import subprocess\n",
    "\n",
    "# rodar um comando com subprocess\n",
    "def main():\n",
    "    parser = argparse.ArgumentParser()\n",
    "    parser.add_argument('--command', type=str, help='Comando que será executado.')\n",
    "    args = parser.parse_args()\n",
    "    subprocess.call(args.command, shell=True)\n",
    "main()"
   ]
  }
 ],
 "metadata": {
  "kernelspec": {
   "display_name": "Python 3.9.13 64-bit (windows store)",
   "language": "python",
   "name": "python3"
  },
  "language_info": {
   "codemirror_mode": {
    "name": "ipython",
    "version": 3
   },
   "file_extension": ".py",
   "mimetype": "text/x-python",
   "name": "python",
   "nbconvert_exporter": "python",
   "pygments_lexer": "ipython3",
   "version": "3.9.13"
  },
  "orig_nbformat": 4,
  "vscode": {
   "interpreter": {
    "hash": "d91edcd1d680c704b7f2fade50b7432a288b39baa723c7dec24d1ad2f238d26b"
   }
  }
 },
 "nbformat": 4,
 "nbformat_minor": 2
}
