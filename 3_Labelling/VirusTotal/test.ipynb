{
 "cells": [
  {
   "cell_type": "code",
   "execution_count": 4,
   "metadata": {},
   "outputs": [
    {
     "data": {
      "text/html": [
       "<div>\n",
       "<style scoped>\n",
       "    .dataframe tbody tr th:only-of-type {\n",
       "        vertical-align: middle;\n",
       "    }\n",
       "\n",
       "    .dataframe tbody tr th {\n",
       "        vertical-align: top;\n",
       "    }\n",
       "\n",
       "    .dataframe thead th {\n",
       "        text-align: right;\n",
       "    }\n",
       "</style>\n",
       "<table border=\"1\" class=\"dataframe\">\n",
       "  <thead>\n",
       "    <tr style=\"text-align: right;\">\n",
       "      <th></th>\n",
       "      <th>sha256</th>\n",
       "      <th>malicious</th>\n",
       "    </tr>\n",
       "  </thead>\n",
       "  <tbody>\n",
       "    <tr>\n",
       "      <th>0</th>\n",
       "      <td>028f26390a79c1722f56e730a4aab5019ffca4a39b5782...</td>\n",
       "      <td>0</td>\n",
       "    </tr>\n",
       "    <tr>\n",
       "      <th>1</th>\n",
       "      <td>25706aa52cd3fa51753ba2957cceda34d22aa084c00a14...</td>\n",
       "      <td>1</td>\n",
       "    </tr>\n",
       "    <tr>\n",
       "      <th>2</th>\n",
       "      <td>2570e36a4b90b60d2d35d367ec29f33e77b0f851d5b332...</td>\n",
       "      <td>0</td>\n",
       "    </tr>\n",
       "  </tbody>\n",
       "</table>\n",
       "</div>"
      ],
      "text/plain": [
       "                                              sha256  malicious\n",
       "0  028f26390a79c1722f56e730a4aab5019ffca4a39b5782...          0\n",
       "1  25706aa52cd3fa51753ba2957cceda34d22aa084c00a14...          1\n",
       "2  2570e36a4b90b60d2d35d367ec29f33e77b0f851d5b332...          0"
      ]
     },
     "execution_count": 4,
     "metadata": {},
     "output_type": "execute_result"
    }
   ],
   "source": [
    "import pandas as pd\n",
    "import json \n",
    "import os\n",
    "from json.decoder import JSONDecodeError\n",
    "import shutil\n",
    "pd.options.display.max_rows = None\n",
    "pd.options.display.max_columns = None\n",
    "path = \".\"\n",
    "dados=[]\n",
    "for file in os.scandir(path):\n",
    "    if file.stat().st_size > 3048 and file.path.endswith(\".json\") and file.is_file():\n",
    "        with open(file) as f:\n",
    "            try:\n",
    "                data1= json.loads(\"[\" + f.read().replace(\"}\\n{\", \"},{\") + \"]\")\n",
    "                app = pd.json_normalize(data1[0]['data']['attributes'])\n",
    "                last_stats = data1[0]['data']['attributes']['last_analysis_stats']\n",
    "                d = {'sha256': app['sha256'].values[0], 'malicious': last_stats['malicious']}\n",
    "                dados.append(d)\n",
    "                f.close()\n",
    "    \n",
    "            except JSONDecodeError as e:\n",
    "                shutil.move(file,\"Erros\")\n",
    "            except TypeError as e:\n",
    "                shutil.move(file,\"Erros\")\n",
    "df_VT = pd.DataFrame(dados)\n",
    "df_VT.to_csv('out.csv', index=False) \n",
    "df_VT.head()\n",
    "#for k, v in data1[0][\"data\"][\"attributes\"][\"last_analysis_results\"].items():\n",
    "    #print(\"{:<30} {:<30}\".format(k, str(v[\"result\"])))\n",
    "#df1 = pd.read_csv('out.csv', sep = ',')\n",
    "#df1['TOTAL'] = df1.loc[df1['malicious'] >=0,['malicious','undetected','harmless','suspicious','failure','unsupported','timeout']].sum(axis=1)\n",
    "#df1['TOTAL'].fillna(0, inplace=True)\n",
    "#print(\"Processados\",len(df1))\n",
    "#df1.head()"
   ]
  }
 ],
 "metadata": {
  "kernelspec": {
   "display_name": "Python 3.9.13 64-bit (windows store)",
   "language": "python",
   "name": "python3"
  },
  "language_info": {
   "codemirror_mode": {
    "name": "ipython",
    "version": 3
   },
   "file_extension": ".py",
   "mimetype": "text/x-python",
   "name": "python",
   "nbconvert_exporter": "python",
   "pygments_lexer": "ipython3",
   "version": "3.9.13"
  },
  "orig_nbformat": 4,
  "vscode": {
   "interpreter": {
    "hash": "d91edcd1d680c704b7f2fade50b7432a288b39baa723c7dec24d1ad2f238d26b"
   }
  }
 },
 "nbformat": 4,
 "nbformat_minor": 2
}
